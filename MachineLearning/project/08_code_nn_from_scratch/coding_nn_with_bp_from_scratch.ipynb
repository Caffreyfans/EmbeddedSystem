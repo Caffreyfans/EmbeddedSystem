{
  "nbformat": 4,
  "nbformat_minor": 0,
  "metadata": {
    "colab": {
      "name": "coding_nn_with_bp_from_scratch.ipynb",
      "provenance": [],
      "collapsed_sections": [],
      "authorship_tag": "ABX9TyMqFhQsTUoSOUm1n8uuJv3g",
      "include_colab_link": true
    },
    "kernelspec": {
      "name": "python3",
      "display_name": "Python 3"
    }
  },
  "cells": [
    {
      "cell_type": "markdown",
      "metadata": {
        "id": "view-in-github",
        "colab_type": "text"
      },
      "source": [
        "<a href=\"https://colab.research.google.com/github/SummerLife/EmbeddedSystem/blob/master/MachineLearning/project/08_code_nn_from_scratch/coding_nn_with_bp_from_scratch.ipynb\" target=\"_parent\"><img src=\"https://colab.research.google.com/assets/colab-badge.svg\" alt=\"Open In Colab\"/></a>"
      ]
    },
    {
      "cell_type": "markdown",
      "metadata": {
        "id": "R0AJK-lokeNv",
        "colab_type": "text"
      },
      "source": [
        "# Coding a Neural Network with Backpropagation from scratch\n",
        "\n",
        "- Initialize Network\n",
        "- Forward Propagate\n",
        "- Back Propagate Error\n",
        "- Train Network\n",
        "- Predict\n",
        "- Seeds Dataset Case Study"
      ]
    },
    {
      "cell_type": "markdown",
      "metadata": {
        "id": "trbkkR6Gk4OW",
        "colab_type": "text"
      },
      "source": [
        "## 1. Initialize Network"
      ]
    },
    {
      "cell_type": "code",
      "metadata": {
        "id": "RyiTEZ_RgbTu",
        "colab_type": "code",
        "colab": {
          "base_uri": "https://localhost:8080/",
          "height": 51
        },
        "outputId": "1d974fa9-b6a7-4345-fdf0-2a0b10cdb707"
      },
      "source": [
        "from random import seed\n",
        "from random import random\n",
        "\n",
        "# Initialize a network\n",
        "def initialize_network(n_inputs, n_hidden, n_outputs):\n",
        "    network = list()\n",
        "    hidden_layer = [{\"weight\": [random() for i in range(n_inputs + 1)]} for i in range(n_hidden)]\n",
        "    network.append(hidden_layer)\n",
        "    output_layer = [{\"weight\": [random() for i in range(n_hidden + 1)]} for i in range(n_outputs)]\n",
        "    network.append(output_layer)\n",
        "    return network\n",
        "\n",
        "seed(1)\n",
        "network = initialize_network(2,1,2)\n",
        "for layer in network:\n",
        "    print(layer)"
      ],
      "execution_count": 16,
      "outputs": [
        {
          "output_type": "stream",
          "text": [
            "[{'weight': [0.13436424411240122, 0.8474337369372327, 0.763774618976614]}]\n",
            "[{'weight': [0.2550690257394217, 0.49543508709194095]}, {'weight': [0.4494910647887381, 0.651592972722763]}]\n"
          ],
          "name": "stdout"
        }
      ]
    }
  ]
}